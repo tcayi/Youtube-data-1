{
 "cells": [
  {
   "cell_type": "markdown",
   "metadata": {},
   "source": [
    "# 此為最終版本"
   ]
  },
  {
   "cell_type": "code",
   "execution_count": 15,
   "metadata": {},
   "outputs": [
    {
     "name": "stdout",
     "output_type": "stream",
     "text": [
      "請輸入欲搜尋標籤: 大麻\n",
      "\n",
      "\n",
      "我們推測您也喜歡下面頻道中這則影片: \n",
      "8. 共和黨人：我要彈劾拜登；德州要獨立？議員：還有幾個州感興趣；川普提前30年解密：將中共封在第一島鏈；印度調重軍 中共服軟撤退？8省現關聯病例 中國恐“全境淪陷”  ；驚！俄女體內現18種變異病毒；\n",
      "\n",
      "\n",
      "請進入該頻道搜尋: https://www.youtube.com/channel/UC2mLqX_IavAs3TPK3GNlzAw\n"
     ]
    }
   ],
   "source": [
    "from gensim.models import word2vec\n",
    "from pymongo import MongoClient\n",
    "import random\n",
    "\"\"\"\n",
    "連線至MongoDB資料庫\n",
    "\"\"\"\n",
    "# client = MongoClient(\"192.168.217.135\", 27017)\n",
    "\n",
    "# 以下一行, host後面請改成已安裝docker並成功啟動思睿壓模檔案的機器IP\n",
    "client = MongoClient(host='192.168.217.135', port=27017)\n",
    "db_auth = client.admin\n",
    "db_auth.authenticate(\"root\",\"youtube\")\n",
    "# 連線指定資料庫，資料庫名為db_name\n",
    "db = client['youtube']\n",
    "\n",
    "\"\"\"\n",
    "導入推薦系統模型\n",
    "\"\"\"\n",
    "# 設定欲比對詞彙\n",
    "KWsearch = input('請輸入欲搜尋標籤: ')\n",
    "\n",
    "keyword = KWsearch\n",
    "\n",
    "topic = ['animation', 'beauty', 'entertainment.travel.daily',\n",
    "         'exercise', 'food', 'game', 'knowledge', 'learn', \n",
    "         'news', 'pet', 'technology', 'variatyshow']\n",
    "#載入12種Model\n",
    "a = 0\n",
    "TotalList=[]\n",
    "maximum = 0\n",
    "title = \"\"\n",
    "checkall = 0\n",
    "TopicList=[]\n",
    "\n",
    "for i in range(12):\n",
    "    try:\n",
    "        model = word2vec.Word2Vec.load(topic[a] + '.word2vec.model')\n",
    "        ItemList=[]\n",
    "        for item in model.wv.most_similar(keyword):\n",
    "            ItemList.append(item)\n",
    "#             以下一行可選擇隱藏\n",
    "#         print('我們在主題: ' + topic[a] + ' 搜尋到您可能喜歡的影片')\n",
    "        TopicList.append(topic[a])\n",
    "        a += 1\n",
    "        TargetList=[]\n",
    "#             以下兩行可選擇隱藏\n",
    "#         print(ItemList[0][0])\n",
    "#         print(ItemList[0][1])\n",
    "        TargetList.append(ItemList[0][0])\n",
    "        TargetList.append(ItemList[0][1])\n",
    "        TotalList.append(TargetList)\n",
    "        \n",
    "        listorder = 0\n",
    "        maximum = TotalList[listorder][1]\n",
    "        for score in TotalList:\n",
    "            if TotalList[listorder][1] >= maximum:\n",
    "                maximum = TotalList[listorder][1]\n",
    "                \n",
    "                MostSimilarTopic = \"\"\n",
    "                for y in range(len(TopicList[listorder])):\n",
    "                    en = TopicList[listorder][y]\n",
    "                    MostSimilarTopic += en\n",
    "                \n",
    "                title = \"\"\n",
    "                for j in range(len(TotalList[listorder][0])):\n",
    "                    ch = TotalList[listorder][0][j]\n",
    "                    title += ch\n",
    "            listorder += 1\n",
    "\n",
    "        if a == 11:\n",
    "            break\n",
    "    except:\n",
    "        checkall += 1\n",
    "#             以下一行可選擇隱藏\n",
    "#         print('我們在主題: ' + topic[a] + ' 搜尋不到您可能喜歡的影片')\n",
    "        a += 1\n",
    "\n",
    "            \n",
    "if checkall ==12:\n",
    "    print('\\n'+'抱歉我們完全找不到您欲搜尋的影片,請再輸入一次!')\n",
    "else:\n",
    "#             以下五行可選擇隱藏\n",
    "#     print('\\n')\n",
    "#     print('我們將推薦您 ' + str(MostSimilarTopic) + ' 主題')\n",
    "#     print('我們認為您也喜歡 ' + str(title) + ' 的影片')\n",
    "#     print('該主題與您相似值為: ' + str(maximum))\n",
    "#     print('\\n')\n",
    "    \n",
    "    MST = MostSimilarTopic\n",
    "    mycol = db[str(MST)]\n",
    "\n",
    "    import re\n",
    "#     title_re = re.compile(title and keyword)\n",
    "#     title_re = re.compile(keyword and title)\n",
    "    title_re = re.compile(title)\n",
    "    z=0\n",
    "    OutPut=[]\n",
    "    for x in mycol.find({'Title': title_re}, {\"_id\": 0, \"ChannelLink\": 1, 'Title': 1}):\n",
    "        OutPut.append(x)\n",
    "#             以下可選擇隱藏\n",
    "#         print(str(z) + '. ')\n",
    "#         print(x)\n",
    "        z += 1\n",
    "    \n",
    "    x = random.randint(0,int(z))\n",
    "    print('\\n')\n",
    "    print('我們推測您也喜歡下面頻道中這則影片: \\n' + str(x) + '. ' + OutPut[int(x)]['Title'])\n",
    "    print('\\n')\n",
    "    print('請進入該頻道搜尋: ' + 'https://www.youtube.com' + OutPut[int(x)]['ChannelLink'])"
   ]
  },
  {
   "cell_type": "code",
   "execution_count": 16,
   "metadata": {},
   "outputs": [
    {
     "name": "stdout",
     "output_type": "stream",
     "text": [
      "Defaulting to user installation because normal site-packages is not writeable\n",
      "Collecting youtube-search-scraper\n",
      "  Downloading youtube-search-scraper-1.0.0.tar.gz (2.4 kB)\n",
      "Requirement already satisfied: requests in c:\\users\\tibame\\appdata\\roaming\\python\\python38\\site-packages (from youtube-search-scraper) (2.25.1)\n",
      "Requirement already satisfied: bot-studio in c:\\users\\tibame\\appdata\\roaming\\python\\python38\\site-packages (from youtube-search-scraper) (1.0.2)\n",
      "Requirement already satisfied: tqdm in c:\\users\\tibame\\appdata\\roaming\\python\\python38\\site-packages (from bot-studio->youtube-search-scraper) (4.60.0)\n",
      "Requirement already satisfied: certifi>=2017.4.17 in c:\\users\\tibame\\appdata\\roaming\\python\\python38\\site-packages (from requests->youtube-search-scraper) (2020.12.5)\n",
      "Requirement already satisfied: urllib3<1.27,>=1.21.1 in c:\\users\\tibame\\appdata\\roaming\\python\\python38\\site-packages (from requests->youtube-search-scraper) (1.26.3)\n",
      "Requirement already satisfied: chardet<5,>=3.0.2 in c:\\users\\tibame\\appdata\\roaming\\python\\python38\\site-packages (from requests->youtube-search-scraper) (4.0.0)\n",
      "Requirement already satisfied: idna<3,>=2.5 in c:\\users\\tibame\\appdata\\roaming\\python\\python38\\site-packages (from requests->youtube-search-scraper) (2.10)\n",
      "Building wheels for collected packages: youtube-search-scraper\n",
      "  Building wheel for youtube-search-scraper (setup.py): started\n",
      "  Building wheel for youtube-search-scraper (setup.py): finished with status 'done'\n",
      "  Created wheel for youtube-search-scraper: filename=youtube_search_scraper-1.0.0-py3-none-any.whl size=2274 sha256=d5b42566bab8aed28af229358a47feecbb0b7ade384f9b209f5357d61ff45f3e\n",
      "  Stored in directory: c:\\users\\tibame\\appdata\\local\\pip\\cache\\wheels\\fc\\b4\\c3\\aad8ced5448cb1403cbd382a92123cf48cb27eaec653aee599\n",
      "Successfully built youtube-search-scraper\n",
      "Installing collected packages: youtube-search-scraper\n",
      "Successfully installed youtube-search-scraper-1.0.0\n"
     ]
    }
   ],
   "source": [
    "!pip install youtube-search-scraper"
   ]
  },
  {
   "cell_type": "code",
   "execution_count": 26,
   "metadata": {},
   "outputs": [
    {
     "name": "stderr",
     "output_type": "stream",
     "text": [
      "\n",
      "\n",
      "\n",
      "\n",
      "\n",
      "\n",
      "Progress:   0%|                                                                                               | 0/200 [00:00<?, ?it/s]\u001b[A\u001b[A\u001b[A\u001b[A\u001b[A\u001b[A\n",
      "\n",
      "\n",
      "\n",
      "\n",
      "\n",
      "\n",
      "Progress:   0%|                                                                                               | 0/200 [00:00<?, ?it/s]\u001b[A\u001b[A\u001b[A\u001b[A\u001b[A\u001b[A\u001b[A"
     ]
    }
   ],
   "source": [
    "from youtube_search_scraper import *\n",
    "youtube.search(keyword=OutPut[int(x)]['Title'])\n",
    "response=youtube.search_results()\n",
    "data=response['body']\n",
    "#data=[{\"viewsandtime\": \"220K views 2 months ago\", \"channel\": \"the quint\", \"title\": \"CBSE Exams 2021: When Will Board Exams Happen?\", \"link\": \"https://www.youtube.com/watch?v=KSg1RleLs3M\"},{},...]"
   ]
  },
  {
   "cell_type": "code",
   "execution_count": 25,
   "metadata": {},
   "outputs": [
    {
     "name": "stdout",
     "output_type": "stream",
     "text": [
      "共和黨人：我要彈劾拜登；德州要獨立？議員：還有幾個州感興趣；川普提前30年解密：將中共封在第一島鏈；印度調重軍 中共服軟撤退？8省現關聯病例 中國恐“全境淪陷”  ；驚！俄女體內現18種變異病毒；\n"
     ]
    },
    {
     "ename": "IndexError",
     "evalue": "list index out of range",
     "output_type": "error",
     "traceback": [
      "\u001b[1;31m---------------------------------------------------------------------------\u001b[0m",
      "\u001b[1;31mIndexError\u001b[0m                                Traceback (most recent call last)",
      "\u001b[1;32m<ipython-input-25-8e45c9857d13>\u001b[0m in \u001b[0;36m<module>\u001b[1;34m\u001b[0m\n\u001b[0;32m      6\u001b[0m \u001b[0mhtml_content\u001b[0m \u001b[1;33m=\u001b[0m \u001b[0murllib\u001b[0m\u001b[1;33m.\u001b[0m\u001b[0mrequest\u001b[0m\u001b[1;33m.\u001b[0m\u001b[0murlopen\u001b[0m\u001b[1;33m(\u001b[0m\u001b[1;34m\"http://www.youtube.com/results?\"\u001b[0m \u001b[1;33m+\u001b[0m \u001b[0mquery_string\u001b[0m\u001b[1;33m)\u001b[0m\u001b[1;33m\u001b[0m\u001b[1;33m\u001b[0m\u001b[0m\n\u001b[0;32m      7\u001b[0m \u001b[0msearch_results\u001b[0m \u001b[1;33m=\u001b[0m \u001b[0mre\u001b[0m\u001b[1;33m.\u001b[0m\u001b[0mfindall\u001b[0m\u001b[1;33m(\u001b[0m\u001b[1;34mr'href=\\\"\\/watch\\?v=(.{11})'\u001b[0m\u001b[1;33m,\u001b[0m \u001b[0mhtml_content\u001b[0m\u001b[1;33m.\u001b[0m\u001b[0mread\u001b[0m\u001b[1;33m(\u001b[0m\u001b[1;33m)\u001b[0m\u001b[1;33m.\u001b[0m\u001b[0mdecode\u001b[0m\u001b[1;33m(\u001b[0m\u001b[1;33m)\u001b[0m\u001b[1;33m)\u001b[0m\u001b[1;33m\u001b[0m\u001b[1;33m\u001b[0m\u001b[0m\n\u001b[1;32m----> 8\u001b[1;33m \u001b[0mprint\u001b[0m\u001b[1;33m(\u001b[0m\u001b[1;34m\"http://www.youtube.com/watch?v=\"\u001b[0m \u001b[1;33m+\u001b[0m \u001b[0msearch_results\u001b[0m\u001b[1;33m[\u001b[0m\u001b[1;36m0\u001b[0m\u001b[1;33m]\u001b[0m\u001b[1;33m)\u001b[0m\u001b[1;33m\u001b[0m\u001b[1;33m\u001b[0m\u001b[0m\n\u001b[0m",
      "\u001b[1;31mIndexError\u001b[0m: list index out of range"
     ]
    }
   ],
   "source": [
    "import urllib.request\n",
    "import urllib.parse\n",
    "import re\n",
    "\n",
    "query_string = urllib.parse.urlencode({\"search_query\" : input()})\n",
    "html_content = urllib.request.urlopen(\"http://www.youtube.com/results?\" + query_string)\n",
    "search_results = re.findall(r'href=\\\"\\/watch\\?v=(.{11})', html_content.read().decode())\n",
    "print(\"http://www.youtube.com/watch?v=\" + search_results[0])"
   ]
  },
  {
   "cell_type": "code",
   "execution_count": 27,
   "metadata": {},
   "outputs": [
    {
     "name": "stdout",
     "output_type": "stream",
     "text": [
      "Defaulting to user installation because normal site-packages is not writeable\n"
     ]
    },
    {
     "name": "stderr",
     "output_type": "stream",
     "text": [
      "ERROR: Could not find a version that satisfies the requirement youtube-auto-search (from versions: none)\n",
      "ERROR: No matching distribution found for youtube-auto-search\n"
     ]
    }
   ],
   "source": [
    "!pip install youtube-auto-search"
   ]
  }
 ],
 "metadata": {
  "kernelspec": {
   "display_name": "Python 3",
   "language": "python",
   "name": "python3"
  },
  "language_info": {
   "codemirror_mode": {
    "name": "ipython",
    "version": 3
   },
   "file_extension": ".py",
   "mimetype": "text/x-python",
   "name": "python",
   "nbconvert_exporter": "python",
   "pygments_lexer": "ipython3",
   "version": "3.8.5"
  }
 },
 "nbformat": 4,
 "nbformat_minor": 5
}
